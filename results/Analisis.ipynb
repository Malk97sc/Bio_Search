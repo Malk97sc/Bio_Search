{
 "cells": [
  {
   "cell_type": "markdown",
   "id": "8730554b",
   "metadata": {},
   "source": [
    "# Análisis de Resultados"
   ]
  },
  {
   "cell_type": "markdown",
   "id": "58b9af42",
   "metadata": {},
   "source": []
  }
 ],
 "metadata": {
  "language_info": {
   "name": "python"
  }
 },
 "nbformat": 4,
 "nbformat_minor": 5
}
